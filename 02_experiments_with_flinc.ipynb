{
 "cells": [
  {
   "cell_type": "markdown",
   "id": "1913bb38-f71e-499d-a33a-cdf219e932b6",
   "metadata": {},
   "source": [
    "# Audit and Repeat Experiments with Flinc"
   ]
  },
  {
   "cell_type": "markdown",
   "id": "eac3b6c2-7ec4-4fd2-8928-b7cfcda69756",
   "metadata": {},
   "source": [
    "This notebook is not intended to be run on the Trovi headnode! Instead, it is meant to be run on a second, more powerful Jupyter server that we reserved in `01_reserve_jupyter_server.ipynb`. If you successfully ran all of the command in that notebook, and have used an SSH tunnel to run and access JupyterLab locally through your browser, `sciunit` should already be installed. You can go ahead and check for it with the following command. It should output a directory like `/home/cc/.local/bin/sciunit`."
   ]
  },
  {
   "cell_type": "code",
   "execution_count": null,
   "id": "db6c477c-95d9-4496-9358-987075409c30",
   "metadata": {},
   "outputs": [],
   "source": [
    "which sciunit"
   ]
  },
  {
   "cell_type": "markdown",
   "id": "318568b5-33ed-433f-aca1-d129d4f74ef8",
   "metadata": {},
   "source": [
    "Let's check for existing sciunit containers. "
   ]
  },
  {
   "cell_type": "code",
   "execution_count": null,
   "id": "d2bde770-0ed6-44ee-9182-bb39aea1a63c",
   "metadata": {},
   "outputs": [],
   "source": [
    "sciunit list "
   ]
  },
  {
   "cell_type": "markdown",
   "id": "f5a45403-4cc3-4421-bc8e-0cc7eb69d899",
   "metadata": {},
   "source": [
    "If there are any, you will see them printed out with names like `e1`. You may want to remove them."
   ]
  },
  {
   "cell_type": "code",
   "execution_count": null,
   "id": "ec0d3fcc-b044-404d-a4fb-338ef3108f27",
   "metadata": {},
   "outputs": [],
   "source": [
    "# sciunit remove e1"
   ]
  },
  {
   "cell_type": "markdown",
   "id": "8091bdd0-f9c5-4b7a-ac78-91e8fc673f20",
   "metadata": {},
   "source": [
    "## Running an experiment from another machine\n",
    "\n",
    "We are going to work with an experiment called FlowFromSnow, which is an example experiment that shipped with the version of Flinc we installed. From here on out, you should consider keeping all experiments in an appropriately named file in the `~/Flinc/Notebook Containers` directory. Let's list all the experiments currently in this directory."
   ]
  },
  {
   "cell_type": "code",
   "execution_count": null,
   "id": "7f57e53f-1f29-41e4-b134-4df2a63b1f73",
   "metadata": {},
   "outputs": [],
   "source": [
    "cd ~/Flinc/Notebook\\ Containers\n",
    "ls"
   ]
  },
  {
   "cell_type": "markdown",
   "id": "0f505964-6aa9-4109-9e59-63e31046ddcf",
   "metadata": {},
   "source": [
    "Now let's inspect the FlowFromSnow experiment directory."
   ]
  },
  {
   "cell_type": "code",
   "execution_count": null,
   "id": "0cba4ac7-f3d0-494c-9867-643717800aaa",
   "metadata": {},
   "outputs": [],
   "source": [
    "cd ~/Flinc/Notebook\\ Containers/FlowFromSnow\n",
    "ls"
   ]
  },
  {
   "cell_type": "markdown",
   "id": "dd1234f2-d8f4-4c5c-a3ba-5d75977697b2",
   "metadata": {},
   "source": [
    "- `FlowFromSnow.ipynb` contains the experiment\n",
    "- `usgs10109000.txt` and `GetDataFunctions.py` are required dependencies to run the experiment\n",
    "- `audit-kernel.zip` contain a kernel from a previous audit of the experiment. That means that someone else ran the experiment, which passively created a container with all the dependencies required to run the experiment. Our goal is to repeat the experiment with this container.\n",
    "\n",
    "Let's open that container."
   ]
  },
  {
   "cell_type": "code",
   "execution_count": null,
   "id": "0e85aa75-0b46-4f6d-b24e-9ac088540f7c",
   "metadata": {},
   "outputs": [],
   "source": [
    "sciunit open audit-kernel.zip"
   ]
  },
  {
   "cell_type": "code",
   "execution_count": null,
   "id": "e74ec49d-562b-4abe-ab77-fd482b463977",
   "metadata": {},
   "outputs": [],
   "source": [
    "sciunit list"
   ]
  },
  {
   "cell_type": "markdown",
   "id": "aad71483-82cc-487b-ad20-6d84befbed7a",
   "metadata": {},
   "source": [
    "The command should produce output that contains hints that this container was not created by us. The date is listed as Nov 18, and there is a 364/365 chance that when you are reading this, the date is not Nov 18. \n",
    "\n",
    "We also get hints about where this kernel was originally run by the launchpath, which contains `cybergis.illinois.edu` and tells us that this container was originally run on the CyberGIS platform."
   ]
  },
  {
   "cell_type": "markdown",
   "id": "fa483ce8-1829-41b9-b9fb-36a8ceaa63f4",
   "metadata": {},
   "source": [
    "At this point, you can go ahead and open the Jupyter Notebook located at `~/Flinc/Notebook Containers/FlowFromSnow/FlowFromSnow.ipynb` and use the kernel selector to switch to the \"sciunit Repeat Kernel\". You should not need to use any missing import statements to run the notebook."
   ]
  }
 ],
 "metadata": {
  "kernelspec": {
   "display_name": "Bash",
   "language": "bash",
   "name": "bash"
  },
  "language_info": {
   "codemirror_mode": "shell",
   "file_extension": ".sh",
   "mimetype": "text/x-sh",
   "name": "bash"
  }
 },
 "nbformat": 4,
 "nbformat_minor": 5
}
